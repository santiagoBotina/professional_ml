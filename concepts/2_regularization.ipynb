{
 "cells": [
  {
   "metadata": {},
   "cell_type": "markdown",
   "source": [
    "# Regularization\n",
    "\n",
    "Regularization is a technique used to prevent overfitting in a model. It does this by adding a penalty term to the loss function. This penalty term is a function of the weights of the model. The idea is to make the model less complex by penalizing large weights. This will make the model generalize better to unseen data.\n",
    "\n",
    "## L1 Lasso\n",
    "Reduce complexity by **eliminating** the features that don't contribute much to the model. This is done by adding the absolute value of the weights to the loss function.\n",
    "\n",
    "## L2 Ridge\n",
    "Reduce complexity by **making the weights smaller**. This is done by adding the square of the weights to the loss function.\n",
    "\n",
    "## Elastic Net\n",
    "A combination of L1 and L2 regularization."
   ],
   "id": "de742647edc4eaba"
  },
  {
   "metadata": {},
   "cell_type": "code",
   "outputs": [],
   "execution_count": null,
   "source": "",
   "id": "57b97d82202e7dba"
  }
 ],
 "metadata": {
  "kernelspec": {
   "display_name": "Python 3",
   "language": "python",
   "name": "python3"
  },
  "language_info": {
   "codemirror_mode": {
    "name": "ipython",
    "version": 2
   },
   "file_extension": ".py",
   "mimetype": "text/x-python",
   "name": "python",
   "nbconvert_exporter": "python",
   "pygments_lexer": "ipython2",
   "version": "2.7.6"
  }
 },
 "nbformat": 4,
 "nbformat_minor": 5
}
